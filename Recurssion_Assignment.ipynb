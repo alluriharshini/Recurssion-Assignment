{
 "cells": [
  {
   "cell_type": "markdown",
   "id": "97507836-891b-4466-a735-0c2e581b235e",
   "metadata": {},
   "source": [
    "Q.1 Can you explain the logic and working of the Tower of Hanoi algorithm by writing a Java program?\n",
    "How does the recursion work, and how are the movements of disks between rods accomplished?"
   ]
  },
  {
   "cell_type": "code",
   "execution_count": 16,
   "id": "ce341a06-cc9c-4f52-8a93-092f583e40c3",
   "metadata": {},
   "outputs": [
    {
     "name": "stdout",
     "output_type": "stream",
     "text": [
      "Move disk 1 from A to C\n",
      "Move disk 2 from A to B\n",
      "Move disk 1 from C to B\n",
      "Move disk 3 from A to C\n",
      "Move disk 1 from B to A\n",
      "Move disk 2 from B to C\n",
      "Move disk 1 from A to C\n"
     ]
    }
   ],
   "source": [
    "def tower_of_hanoi(n, source, target, auxiliary):\n",
    "    if n > 0:\n",
    "        tower_of_hanoi(n-1, source, auxiliary, target)\n",
    "        \n",
    "        print(f\"Move disk {n} from {source} to {target}\")\n",
    "        \n",
    "        tower_of_hanoi(n-1, auxiliary, target, source)\n",
    "\n",
    "tower_of_hanoi(3, 'A', 'C', 'B')\n"
   ]
  },
  {
   "cell_type": "markdown",
   "id": "a64e3ee0-234e-4f4d-9820-b1fc36f36786",
   "metadata": {},
   "source": [
    "Q.2 Given two strings word1 and word2, return the minimum number of operations required to convert word1\n",
    "to word2.\n",
    "Example 1:\n",
    "Input: word1 = \"horse\", word2 = \"ros\"\n",
    "Output: 3\n",
    "Explanation:\n",
    "horse -> rorse (replace 'h' with 'r')\n",
    "rorse -> rose (remove 'r')\n",
    "rose -> ros (remove 'e')\n",
    "Example 2:\n",
    "Input: word1 = \"intention\", word2 = \"execution\"\n",
    "Output: 5\n",
    "Explanation:\n",
    "intention -> inention (remove 't')\n",
    "inention -> enention (replace 'i' with 'e')\n",
    "enention -> exention (replace 'n' with 'x')\n",
    "exention -> exection (replace 'n' with 'c')\n",
    "exection -> execution (insert 'u')"
   ]
  },
  {
   "cell_type": "code",
   "execution_count": 3,
   "id": "b3be086d-862a-49b7-a719-e01fd39e584e",
   "metadata": {},
   "outputs": [
    {
     "name": "stdout",
     "output_type": "stream",
     "text": [
      "3\n",
      "5\n"
     ]
    }
   ],
   "source": [
    "def min_distance(word1, word2):\n",
    "    m, n = len(word1), len(word2)\n",
    "\n",
    "    dp = [[0] * (n + 1) for _ in range(m + 1)]\n",
    "\n",
    "    for i in range(m + 1):\n",
    "        dp[i][0] = i\n",
    "    for j in range(n + 1):\n",
    "        dp[0][j] = j\n",
    "\n",
    "    for i in range(1, m + 1):\n",
    "        for j in range(1, n + 1):\n",
    "            if word1[i - 1] == word2[j - 1]:\n",
    "                dp[i][j] = dp[i - 1][j - 1]\n",
    "            else:\n",
    "                dp[i][j] = 1 + min(dp[i - 1][j],        \n",
    "                                  dp[i][j - 1],        \n",
    "                                  dp[i - 1][j - 1])   \n",
    "\n",
    "    return dp[m][n]\n",
    "\n",
    "word1_example1, word2_example1 = \"horse\", \"ros\"\n",
    "word1_example2, word2_example2 = \"intention\", \"execution\"\n",
    "\n",
    "print(min_distance(word1_example1, word2_example1))  \n",
    "print(min_distance(word1_example2, word2_example2))  \n"
   ]
  },
  {
   "cell_type": "markdown",
   "id": "44d264c5-c243-4813-ab37-f47a944b7dd4",
   "metadata": {},
   "source": [
    "Q. 3 Print the max value of the array [ 13, 1, -3, 22, 5]."
   ]
  },
  {
   "cell_type": "code",
   "execution_count": 5,
   "id": "2a8489c8-4e00-4b31-af29-43f177261e96",
   "metadata": {},
   "outputs": [
    {
     "name": "stdout",
     "output_type": "stream",
     "text": [
      "Max value of the array: 22\n"
     ]
    }
   ],
   "source": [
    "def find_max_recursive(arr, n):\n",
    "    if n == 1:\n",
    "        return arr[0]\n",
    "    \n",
    "    max_in_rest = find_max_recursive(arr[1:], n - 1)\n",
    "    \n",
    "    return max(arr[0], max_in_rest)\n",
    "\n",
    "array = [13, 1, -3, 22, 5]\n",
    "max_value = find_max_recursive(array, len(array))\n",
    "print(\"Max value of the array:\", max_value)\n"
   ]
  },
  {
   "cell_type": "markdown",
   "id": "e1cec5f8-b526-4424-8e10-0e1a955c4ac2",
   "metadata": {},
   "source": [
    "Q.4 Find the sum of the values of the array [92, 23, 15, -20, 10]."
   ]
  },
  {
   "cell_type": "code",
   "execution_count": 6,
   "id": "30534365-48ea-4790-bafd-12c16e4ca9d7",
   "metadata": {},
   "outputs": [
    {
     "name": "stdout",
     "output_type": "stream",
     "text": [
      "Sum of the values in the array: 120\n"
     ]
    }
   ],
   "source": [
    "def sum_of_values_recursive(arr, n):\n",
    "    if n == 0:\n",
    "        return 0\n",
    "    \n",
    "    return arr[0] + sum_of_values_recursive(arr[1:], n - 1)\n",
    "\n",
    "array = [92, 23, 15, -20, 10]\n",
    "sum_of_values = sum_of_values_recursive(array, len(array))\n",
    "print(\"Sum of the values in the array:\", sum_of_values)\n"
   ]
  },
  {
   "cell_type": "markdown",
   "id": "1fb42511-8f1f-45dd-ae1d-a5f18dbcf9d7",
   "metadata": {},
   "source": [
    "Q.5 Given a number n. Print if it is an armstrong number or not.An armstrong number is a number if the sum\n",
    "of every digit in that number raised to the power of total digits in that number is equal to the number.\n",
    "Example : 153 = 1^3 + 5^3 + 3^3 = 1 + 125 + 27 = 153 hence 153 is an armstrong number. (Easy)\n",
    "Input1 : 153\n",
    "Output1 : Yes\n",
    "Input 2 : 134\n",
    "Output2 : No"
   ]
  },
  {
   "cell_type": "code",
   "execution_count": 17,
   "id": "06f5d281-16e1-4d6d-9e81-5ee094582e08",
   "metadata": {},
   "outputs": [
    {
     "name": "stdout",
     "output_type": "stream",
     "text": [
      "True\n",
      "False\n"
     ]
    }
   ],
   "source": [
    "def isArmstrong(val: int) -> bool:\n",
    "    parts = [int(_) for _ in str(val)] \n",
    "    counter = 0\n",
    "    for _ in parts:\n",
    "        counter += _**3\n",
    "    return (counter == val)\n",
    " \n",
    "print(isArmstrong(153))\n",
    " \n",
    "print(isArmstrong(134))"
   ]
  },
  {
   "cell_type": "code",
   "execution_count": null,
   "id": "e8d527a0-f498-415e-b0d8-10c5fa474edb",
   "metadata": {},
   "outputs": [],
   "source": []
  }
 ],
 "metadata": {
  "kernelspec": {
   "display_name": "Python 3 (ipykernel)",
   "language": "python",
   "name": "python3"
  },
  "language_info": {
   "codemirror_mode": {
    "name": "ipython",
    "version": 3
   },
   "file_extension": ".py",
   "mimetype": "text/x-python",
   "name": "python",
   "nbconvert_exporter": "python",
   "pygments_lexer": "ipython3",
   "version": "3.10.8"
  }
 },
 "nbformat": 4,
 "nbformat_minor": 5
}
